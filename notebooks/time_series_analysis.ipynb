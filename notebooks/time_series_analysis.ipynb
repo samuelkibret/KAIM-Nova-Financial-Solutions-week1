{
 "cells": [
  {
   "cell_type": "markdown",
   "id": "9a751698",
   "metadata": {},
   "source": [
    "# Load Data"
   ]
  },
  {
   "cell_type": "code",
   "execution_count": 1,
   "id": "f4381e64",
   "metadata": {},
   "outputs": [
    {
     "data": {
      "text/plain": [
       "0          2020-06-05 10:30:54-04:00\n",
       "1          2020-06-03 10:45:20-04:00\n",
       "2          2020-05-26 04:30:07-04:00\n",
       "3          2020-05-22 12:45:06-04:00\n",
       "4          2020-05-22 11:38:59-04:00\n",
       "                     ...            \n",
       "1407323          2011-08-29 00:00:00\n",
       "1407324          2011-06-22 00:00:00\n",
       "1407325          2011-06-21 00:00:00\n",
       "1407326          2011-06-21 00:00:00\n",
       "1407327          2011-05-12 00:00:00\n",
       "Name: date, Length: 1407328, dtype: object"
      ]
     },
     "execution_count": 1,
     "metadata": {},
     "output_type": "execute_result"
    }
   ],
   "source": [
    "import pandas as pd\n",
    "import sys\n",
    "import os\n",
    "# add project root to sys.path\n",
    "sys.path.append(os.path.abspath(os.path.join('..'))) \n",
    "from src.time_series_analysis import TimeSeriesAnalysis\n",
    "#loading data\n",
    "df = pd.read_csv(\"../data/raw_data/raw_analyst_ratings/raw_analyst_ratings.csv\")\n",
    "df[\"date\"]"
   ]
  },
  {
   "cell_type": "markdown",
   "id": "153c1513",
   "metadata": {},
   "source": [
    "# Create Instance of TimeSeries"
   ]
  },
  {
   "cell_type": "code",
   "execution_count": 2,
   "id": "aff18733",
   "metadata": {},
   "outputs": [],
   "source": [
    "timeseriesanalysis = TimeSeriesAnalysis(df)"
   ]
  },
  {
   "cell_type": "markdown",
   "id": "2ac89596",
   "metadata": {},
   "source": [
    "# Daily Articles Published"
   ]
  },
  {
   "cell_type": "code",
   "execution_count": 3,
   "id": "0e8f0044",
   "metadata": {},
   "outputs": [
    {
     "data": {
      "text/plain": [
       "day\n",
       "2011-04-28      3\n",
       "2011-04-29      2\n",
       "2011-04-30      1\n",
       "2011-05-01      1\n",
       "2011-05-02      9\n",
       "             ... \n",
       "2020-06-07     25\n",
       "2020-06-08    765\n",
       "2020-06-09    803\n",
       "2020-06-10    807\n",
       "2020-06-11    544\n",
       "Length: 2502, dtype: int64"
      ]
     },
     "execution_count": 3,
     "metadata": {},
     "output_type": "execute_result"
    }
   ],
   "source": [
    "timeseriesanalysis.group_by_day()"
   ]
  },
  {
   "cell_type": "markdown",
   "id": "63a04c3a",
   "metadata": {},
   "source": [
    "# Publication By Hour"
   ]
  },
  {
   "cell_type": "code",
   "execution_count": 4,
   "id": "b79ec736",
   "metadata": {},
   "outputs": [
    {
     "data": {
      "text/plain": [
       "hour\n",
       "0.0      131\n",
       "1.0       82\n",
       "2.0       48\n",
       "3.0       27\n",
       "4.0       67\n",
       "5.0       14\n",
       "6.0       57\n",
       "7.0       93\n",
       "8.0     1469\n",
       "9.0     1829\n",
       "10.0    2476\n",
       "11.0    5033\n",
       "12.0    5527\n",
       "13.0    5965\n",
       "14.0    7669\n",
       "15.0    5701\n",
       "16.0    5732\n",
       "17.0    2710\n",
       "18.0    2075\n",
       "19.0    1612\n",
       "20.0    3939\n",
       "21.0    2800\n",
       "22.0     704\n",
       "23.0     227\n",
       "Name: count, dtype: int64"
      ]
     },
     "execution_count": 4,
     "metadata": {},
     "output_type": "execute_result"
    }
   ],
   "source": [
    "timeseriesanalysis.hourly_distribution()"
   ]
  },
  {
   "cell_type": "markdown",
   "id": "7cde3cf5",
   "metadata": {},
   "source": [
    "# Average Publication"
   ]
  },
  {
   "cell_type": "code",
   "execution_count": 7,
   "id": "ed8d72fd",
   "metadata": {},
   "outputs": [
    {
     "data": {
      "text/plain": [
       "day\n",
       "2011-05-25      9\n",
       "2011-06-07      8\n",
       "2011-08-11     23\n",
       "2011-09-13     10\n",
       "2011-10-26     10\n",
       "             ... \n",
       "2020-03-19    630\n",
       "2020-05-07    751\n",
       "2020-05-26    628\n",
       "2020-06-03    720\n",
       "2020-06-05    932\n",
       "Length: 110, dtype: int64"
      ]
     },
     "execution_count": 7,
     "metadata": {},
     "output_type": "execute_result"
    }
   ],
   "source": [
    "tsa = timeseriesanalysis.group_by_day()\n",
    "timeseriesanalysis.detect_spikes(tsa)"
   ]
  }
 ],
 "metadata": {
  "kernelspec": {
   "display_name": "env1",
   "language": "python",
   "name": "python3"
  },
  "language_info": {
   "codemirror_mode": {
    "name": "ipython",
    "version": 3
   },
   "file_extension": ".py",
   "mimetype": "text/x-python",
   "name": "python",
   "nbconvert_exporter": "python",
   "pygments_lexer": "ipython3",
   "version": "3.13.3"
  }
 },
 "nbformat": 4,
 "nbformat_minor": 5
}
