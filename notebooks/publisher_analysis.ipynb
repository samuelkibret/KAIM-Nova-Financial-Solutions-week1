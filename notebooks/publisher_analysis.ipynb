{
 "cells": [
  {
   "cell_type": "markdown",
   "id": "c8339a75",
   "metadata": {},
   "source": [
    "# Load Data"
   ]
  },
  {
   "cell_type": "code",
   "execution_count": 5,
   "id": "c880d494",
   "metadata": {},
   "outputs": [
    {
     "name": "stderr",
     "output_type": "stream",
     "text": [
      "C:\\Users\\skibret\\AppData\\Local\\Temp\\ipykernel_3748\\3492396039.py:11: FutureWarning: In a future version of pandas, parsing datetimes with mixed time zones will raise an error unless `utc=True`. Please specify `utc=True` to opt in to the new behaviour and silence this warning. To create a `Series` with mixed offsets and `object` dtype, please use `apply` and `datetime.datetime.strptime`\n",
      "  df[\"date\"] = pd.to_datetime(df[\"date\"], format=\"mixed\", dayfirst=False, errors=\"coerce\")\n"
     ]
    },
    {
     "data": {
      "text/html": [
       "<div>\n",
       "<style scoped>\n",
       "    .dataframe tbody tr th:only-of-type {\n",
       "        vertical-align: middle;\n",
       "    }\n",
       "\n",
       "    .dataframe tbody tr th {\n",
       "        vertical-align: top;\n",
       "    }\n",
       "\n",
       "    .dataframe thead th {\n",
       "        text-align: right;\n",
       "    }\n",
       "</style>\n",
       "<table border=\"1\" class=\"dataframe\">\n",
       "  <thead>\n",
       "    <tr style=\"text-align: right;\">\n",
       "      <th></th>\n",
       "      <th>Unnamed: 0</th>\n",
       "    </tr>\n",
       "  </thead>\n",
       "  <tbody>\n",
       "    <tr>\n",
       "      <th>count</th>\n",
       "      <td>1.407328e+06</td>\n",
       "    </tr>\n",
       "    <tr>\n",
       "      <th>mean</th>\n",
       "      <td>7.072454e+05</td>\n",
       "    </tr>\n",
       "    <tr>\n",
       "      <th>std</th>\n",
       "      <td>4.081009e+05</td>\n",
       "    </tr>\n",
       "    <tr>\n",
       "      <th>min</th>\n",
       "      <td>0.000000e+00</td>\n",
       "    </tr>\n",
       "    <tr>\n",
       "      <th>25%</th>\n",
       "      <td>3.538128e+05</td>\n",
       "    </tr>\n",
       "    <tr>\n",
       "      <th>50%</th>\n",
       "      <td>7.072395e+05</td>\n",
       "    </tr>\n",
       "    <tr>\n",
       "      <th>75%</th>\n",
       "      <td>1.060710e+06</td>\n",
       "    </tr>\n",
       "    <tr>\n",
       "      <th>max</th>\n",
       "      <td>1.413848e+06</td>\n",
       "    </tr>\n",
       "  </tbody>\n",
       "</table>\n",
       "</div>"
      ],
      "text/plain": [
       "         Unnamed: 0\n",
       "count  1.407328e+06\n",
       "mean   7.072454e+05\n",
       "std    4.081009e+05\n",
       "min    0.000000e+00\n",
       "25%    3.538128e+05\n",
       "50%    7.072395e+05\n",
       "75%    1.060710e+06\n",
       "max    1.413848e+06"
      ]
     },
     "execution_count": 5,
     "metadata": {},
     "output_type": "execute_result"
    }
   ],
   "source": [
    "import pandas as pd\n",
    "import sys\n",
    "import os\n",
    "# add project root to sys.path\n",
    "sys.path.append(os.path.abspath(os.path.join('..'))) \n",
    "from src.publisher_analysis import PublisherAnalysis \n",
    "\n",
    "#loading data\n",
    "df = pd.read_csv(\"../data/raw_data/raw_analyst_ratings/raw_analyst_ratings.csv\")\n",
    "#consistent date format\n",
    "df[\"date\"] = pd.to_datetime(df[\"date\"], format=\"mixed\", dayfirst=False, errors=\"coerce\")\n",
    "df.describe()\n"
   ]
  },
  {
   "cell_type": "markdown",
   "id": "80afbb45",
   "metadata": {},
   "source": [
    "# Creating Instance of Publisher Analysis"
   ]
  },
  {
   "cell_type": "code",
   "execution_count": 7,
   "id": "bfbeeb0a",
   "metadata": {},
   "outputs": [
    {
     "data": {
      "text/plain": [
       "domain\n",
       "benzinga.com              7937\n",
       "gmail.com                  139\n",
       "andyswan.com                 5\n",
       "investdiva.com               2\n",
       "tothetick.com                2\n",
       "eosdetroit.io                1\n",
       "forextraininggroup.com       1\n",
       "stockmetrix.net              1\n",
       "Name: count, dtype: int64"
      ]
     },
     "execution_count": 7,
     "metadata": {},
     "output_type": "execute_result"
    }
   ],
   "source": [
    "publisheranalysis = PublisherAnalysis(df)\n",
    "publisheranalysis.publisher_article_distribution()\n",
    "publisheranalysis.top_publishers()\n",
    "publisheranalysis.unique_email_domains()"
   ]
  },
  {
   "cell_type": "markdown",
   "id": "c10227c7",
   "metadata": {},
   "source": [
    "# Publisher Article Distribution"
   ]
  },
  {
   "cell_type": "code",
   "execution_count": 8,
   "id": "ec213bb8",
   "metadata": {},
   "outputs": [
    {
     "data": {
      "text/plain": [
       "publisher\n",
       "Paul Quintaro        228373\n",
       "Lisa Levin           186979\n",
       "Benzinga Newsdesk    150484\n",
       "Charles Gross         96732\n",
       "Monica Gerson         82380\n",
       "                      ...  \n",
       "MoneyGeek                 1\n",
       "muathe                    1\n",
       "Robert Morris             1\n",
       "LeftCoastHedgie           1\n",
       "Jeremie Capron            1\n",
       "Name: count, Length: 1034, dtype: int64"
      ]
     },
     "execution_count": 8,
     "metadata": {},
     "output_type": "execute_result"
    }
   ],
   "source": [
    "publisheranalysis.publisher_article_distribution()"
   ]
  },
  {
   "cell_type": "markdown",
   "id": "f9c945c5",
   "metadata": {},
   "source": [
    "# Top Publishers"
   ]
  },
  {
   "cell_type": "code",
   "execution_count": 9,
   "id": "b984a56c",
   "metadata": {},
   "outputs": [
    {
     "data": {
      "text/plain": [
       "publisher\n",
       "Paul Quintaro        228373\n",
       "Lisa Levin           186979\n",
       "Benzinga Newsdesk    150484\n",
       "Charles Gross         96732\n",
       "Monica Gerson         82380\n",
       "Eddie Staley          57254\n",
       "Hal Lindon            49047\n",
       "ETF Professor         28489\n",
       "Juan Lopez            28438\n",
       "Benzinga Staff        28114\n",
       "Name: count, dtype: int64"
      ]
     },
     "execution_count": 9,
     "metadata": {},
     "output_type": "execute_result"
    }
   ],
   "source": [
    "publisheranalysis.top_publishers()"
   ]
  },
  {
   "cell_type": "markdown",
   "id": "d3156b17",
   "metadata": {},
   "source": [
    "# Email Domain"
   ]
  },
  {
   "cell_type": "code",
   "execution_count": 10,
   "id": "788e9bcd",
   "metadata": {},
   "outputs": [
    {
     "data": {
      "text/plain": [
       "domain\n",
       "benzinga.com              7937\n",
       "gmail.com                  139\n",
       "andyswan.com                 5\n",
       "investdiva.com               2\n",
       "tothetick.com                2\n",
       "eosdetroit.io                1\n",
       "forextraininggroup.com       1\n",
       "stockmetrix.net              1\n",
       "Name: count, dtype: int64"
      ]
     },
     "execution_count": 10,
     "metadata": {},
     "output_type": "execute_result"
    }
   ],
   "source": [
    "publisheranalysis.unique_email_domains()"
   ]
  }
 ],
 "metadata": {
  "kernelspec": {
   "display_name": "env1",
   "language": "python",
   "name": "python3"
  },
  "language_info": {
   "codemirror_mode": {
    "name": "ipython",
    "version": 3
   },
   "file_extension": ".py",
   "mimetype": "text/x-python",
   "name": "python",
   "nbconvert_exporter": "python",
   "pygments_lexer": "ipython3",
   "version": "3.13.3"
  }
 },
 "nbformat": 4,
 "nbformat_minor": 5
}
