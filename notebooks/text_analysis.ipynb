{
 "cells": [
  {
   "cell_type": "markdown",
   "id": "dd7a424c",
   "metadata": {},
   "source": [
    "# Load Data"
   ]
  },
  {
   "cell_type": "code",
   "execution_count": 1,
   "id": "04f4bcd4",
   "metadata": {},
   "outputs": [],
   "source": [
    "import pandas as pd\n",
    "import os\n",
    "import sys\n",
    "\n",
    "# Ensure Python can find src/text_analysis.py\n",
    "sys.path.append(os.path.abspath(os.path.join('..', 'src')))\n",
    "\n",
    "from text_analysis import TextAnalysis"
   ]
  },
  {
   "cell_type": "markdown",
   "id": "dec8a71c",
   "metadata": {},
   "source": [
    "# Instantiate"
   ]
  },
  {
   "cell_type": "code",
   "execution_count": null,
   "id": "79ea9398",
   "metadata": {},
   "outputs": [
    {
     "name": "stdout",
     "output_type": "stream",
     "text": [
      "Sample keywords (first 20):\n",
      "['acquire', 'acquires', 'acquisition', 'action', 'activity', 'added', 'additional', 'adj', 'adj ebitda', 'adj eps', 'afterhours', 'afternoon', 'agee', 'agreement', 'ahead', 'air', 'airlines', 'alert', 'alibaba', 'amazon']\n"
     ]
    }
   ],
   "source": [
    "df = pd.read_csv(\"../data/raw_data/raw_analyst_ratings/raw_analyst_ratings.csv\")\n",
    "\n",
    "# Instantiate TextAnalysis and extract keywords\n",
    "text_analyzer = TextAnalysis(df, text_column='headline')\n",
    "keywords = text_analyzer.extract_keywords(max_features=1000, ngram_range=(1, 2))\n",
    "\n",
    "print(\"Sample keywords (first 20):\")\n",
    "print(list(keywords)[:20])"
   ]
  }
 ],
 "metadata": {
  "kernelspec": {
   "display_name": "env1",
   "language": "python",
   "name": "python3"
  },
  "language_info": {
   "codemirror_mode": {
    "name": "ipython",
    "version": 3
   },
   "file_extension": ".py",
   "mimetype": "text/x-python",
   "name": "python",
   "nbconvert_exporter": "python",
   "pygments_lexer": "ipython3",
   "version": "3.13.3"
  }
 },
 "nbformat": 4,
 "nbformat_minor": 5
}
