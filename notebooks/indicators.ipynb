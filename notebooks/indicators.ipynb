{
 "cells": [
  {
   "cell_type": "markdown",
   "id": "62fcbe8d",
   "metadata": {},
   "source": [
    "# Import Libraries and Executing Indicators"
   ]
  },
  {
   "cell_type": "code",
   "execution_count": 6,
   "id": "da31f09e",
   "metadata": {},
   "outputs": [],
   "source": [
    "import os\n",
    "import sys\n",
    "import talib\n",
    "import pandas as pd\n",
    "sys.path.append(os.path.abspath(os.path.join(os.getcwd(), '..')))\n",
    "from src.indicators import calculate_indicators\n",
    "\n",
    "df_apple = pd.read_csv('../data/cleaned_data/apple.csv')\n",
    "df_amazon = pd.read_csv('../data/cleaned_data/amazon.csv')\n",
    "df_meta = pd.read_csv('../data/cleaned_data/meta.csv')\n",
    "df_microsoft = pd.read_csv('../data/cleaned_data/microsoft.csv')\n",
    "df_nvidia = pd.read_csv('../data/cleaned_data/nvidia.csv')\n",
    "df_tesla = pd.read_csv('../data/cleaned_data/tesla.csv')\n",
    "df_google = pd.read_csv('../data/cleaned_data/google.csv')\n",
    "\n",
    "df_apple_indicator = calculate_indicators(df_apple)\n",
    "df_amazon_indicator = calculate_indicators(df_amazon)\n",
    "df_meta_indicator = calculate_indicators(df_meta)\n",
    "df_microsoft_indicator = calculate_indicators(df_microsoft)\n",
    "df_nvidia_indicator = calculate_indicators(df_nvidia)\n",
    "df_tesla_indicator = calculate_indicators(df_tesla)\n",
    "df_google_indicator = calculate_indicators(df_google)\n",
    "\n"
   ]
  },
  {
   "cell_type": "markdown",
   "id": "b707a1bb",
   "metadata": {},
   "source": [
    "# Export"
   ]
  },
  {
   "cell_type": "code",
   "execution_count": 8,
   "id": "7c743c9c",
   "metadata": {},
   "outputs": [
    {
     "name": "stdout",
     "output_type": "stream",
     "text": [
      "Indicators calculated and saved successfully.\n"
     ]
    }
   ],
   "source": [
    "df_apple_indicator.to_csv('../data/cleaned_data/indicators/apple_indicators.csv', index=False)\n",
    "df_amazon_indicator.to_csv('../data/cleaned_data/indicators/amazon_indicators.csv', index=False)\n",
    "df_meta_indicator.to_csv('../data/cleaned_data/indicators/meta_indicators.csv', index=False)\n",
    "df_microsoft_indicator.to_csv('../data/cleaned_data/indicators/microsoft_indicators.csv', index=False)\n",
    "df_nvidia_indicator.to_csv('../data/cleaned_data/indicators/nvidia_indicators.csv', index=False)\n",
    "df_tesla_indicator.to_csv('../data/cleaned_data/indicators/tesla_indicators.csv', index=False)\n",
    "df_google_indicator.to_csv('../data/cleaned_data/indicators/google_indicators.csv', index=False)\n",
    "print(\"Indicators calculated and saved successfully.\")\n",
    "# The calculate_indicators function is assumed to be defined in src/indicators.py"
   ]
  }
 ],
 "metadata": {
  "kernelspec": {
   "display_name": "env1",
   "language": "python",
   "name": "python3"
  },
  "language_info": {
   "codemirror_mode": {
    "name": "ipython",
    "version": 3
   },
   "file_extension": ".py",
   "mimetype": "text/x-python",
   "name": "python",
   "nbconvert_exporter": "python",
   "pygments_lexer": "ipython3",
   "version": "3.13.3"
  }
 },
 "nbformat": 4,
 "nbformat_minor": 5
}
